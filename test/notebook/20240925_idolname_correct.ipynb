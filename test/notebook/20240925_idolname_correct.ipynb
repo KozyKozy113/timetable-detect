{
 "cells": [
  {
   "cell_type": "code",
   "execution_count": 25,
   "metadata": {},
   "outputs": [],
   "source": [
    "import os\n",
    "from dotenv import load_dotenv\n",
    "load_dotenv()\n",
    "from openai import OpenAI\n",
    "import faiss\n",
    "\n",
    "openai_api_key = os.getenv('OPENAI_API_KEY')\n",
    "if openai_api_key:\n",
    "    OpenAI.api_key = openai_api_key\n",
    "client = OpenAI()\n",
    "\n",
    "import pandas as pd\n",
    "import numpy as np\n",
    "\n",
    "EMBEDDING_MODEL_NAME = \"text-embedding-3-small\"\n",
    "DIR_PATH = os.path.dirname(os.getcwd())\n",
    "DATA_PATH = DIR_PATH +\"/../data\""
   ]
  },
  {
   "cell_type": "code",
   "execution_count": 81,
   "metadata": {},
   "outputs": [],
   "source": [
    "#ベクトル化する関数\n",
    "def get_embedding(text, model=EMBEDDING_MODEL_NAME, dim=100):\n",
    "    response = client.embeddings.create(input=text, model=model, dimensions=dim)\n",
    "    return response.data[0].embedding\n",
    "\n",
    "#ベクトルデータベースの作成\n",
    "data = pd.read_csv(os.path.join(DATA_PATH, \"master/idolname_embedding_data.csv\"))\n",
    "embeddings = data.drop(\"idol_group_name\",axis=1).values\n",
    "d = len(embeddings[0])  # 次元数\n",
    "index = faiss.IndexFlatL2(d)\n",
    "index.add(embeddings)\n",
    "\n",
    "#類似するデータの検索関数\n",
    "def find_similar(text, k=3):\n",
    "    embedding = np.array([get_embedding(text)]).astype('float32')\n",
    "    distances, indices = index.search(embedding, k)\n",
    "    return indices[0], distances[0]\n",
    "\n",
    "def find_similar_returnidol(text, k=3):\n",
    "    embedding = np.array([get_embedding(text)]).astype('float32')\n",
    "    distances, indices = index.search(embedding, k)\n",
    "    return [data.iloc[idx]['idol_group_name'] for idx in indices[0]], distances[0]\n",
    "\n",
    "#候補を適切な数出力する関数\n",
    "def get_name_list_by_vector(text, search_num=1):#return (bool(完全一致があったか), 名前候補(リスト))\n",
    "    if search_num == 1:\n",
    "        indices, distances = find_similar(text, 1)\n",
    "        if distances[0]==0:\n",
    "            return (True, data.iloc[indices[0]]['idol_group_name'])\n",
    "        else:\n",
    "            return (False, data.iloc[indices[0]]['idol_group_name'])\n",
    "    else:\n",
    "        indices, distances = find_similar(text, search_num)\n",
    "        dist_before = 0\n",
    "        name_list = []\n",
    "        for i, dist in zip(indices, distances):\n",
    "            if dist==0:\n",
    "                return (True, [data.iloc[i]['idol_group_name']])\n",
    "            elif dist - dist_before > 0.5:\n",
    "                break\n",
    "            else:\n",
    "                name_list.append(data.iloc[i]['idol_group_name'])\n",
    "                dist_before = dist\n",
    "        return (False, name_list)"
   ]
  },
  {
   "cell_type": "code",
   "execution_count": 59,
   "metadata": {},
   "outputs": [
    {
     "data": {
      "text/plain": [
       "(['WEAR', 'GAL DOLL', 'GAL・DOLL'],\n",
       " array([0.88607574, 0.9357184 , 0.9381098 ], dtype=float32))"
      ]
     },
     "execution_count": 59,
     "metadata": {},
     "output_type": "execute_result"
    }
   ],
   "source": [
    "find_similar_returnidol(\"Apparel\", k=3)"
   ]
  },
  {
   "cell_type": "code",
   "execution_count": 82,
   "metadata": {},
   "outputs": [
    {
     "data": {
      "text/plain": [
       "(['アンジュルム', 'アンシャンテ', 'アンシュア'],\n",
       " array([0.5108051 , 0.6991157 , 0.71264654], dtype=float32))"
      ]
     },
     "execution_count": 82,
     "metadata": {},
     "output_type": "execute_result"
    }
   ],
   "source": [
    "find_similar_returnidol(\"アンジュレーブ\", k=3)"
   ]
  },
  {
   "cell_type": "code",
   "execution_count": 42,
   "metadata": {},
   "outputs": [],
   "source": [
    "import Levenshtein\n",
    "idol_group_list = data[\"idol_group_name\"]\n",
    "def find_similar_levenshtein(text, k=3, same_output=False):#小さい順の個数。同率の出力コントロール可\n",
    "    distances = [(group, Levenshtein.distance(text, group)) for group in idol_group_list]\n",
    "    distances.sort(key=lambda x: x[1])# 距離が小さい順にソート\n",
    "    if same_output:\n",
    "        threshold_distance = distances[k-1][1]  # k個目の距離を取得\n",
    "        closest_groups = [group for group, distance in distances if distance <= threshold_distance]\n",
    "        closest_distances = [distance for group, distance in distances if distance <= threshold_distance]\n",
    "    else:\n",
    "        closest_groups = [group for group, _ in distances[:k]]\n",
    "        closest_distances = [distance for _, distance in distances[:k]]    \n",
    "    return closest_groups, closest_distances\n",
    "\n",
    "def find_similar_levenshtein_distance(text, edit_distance=3, nearest_only=False):#編集距離の閾値で指定\n",
    "    distances = [(group, Levenshtein.distance(text, group)) for group in idol_group_list]\n",
    "    distances.sort(key=lambda x: x[1])# 距離が小さい順にソート\n",
    "    if nearest_only:\n",
    "        threshold_distance = distances[0][1]\n",
    "        if threshold_distance>edit_distance:\n",
    "            return [],[]\n",
    "        else:\n",
    "            closest_groups = [group for group, distance in distances if distance <= threshold_distance]\n",
    "            closest_distances = [distance for group, distance in distances if distance <= threshold_distance]\n",
    "    else:\n",
    "        closest_groups = [group for group, distance in distances if distance <= edit_distance]\n",
    "        closest_distances = [distance for group, distance in distances if distance <= edit_distance]\n",
    "    return closest_groups, closest_distances\n",
    "\n",
    "def find_similar_levenshtein_distance_rate(text, edit_distance_r=0.2, nearest_only=False):#編集距離の文字数比の閾値で指定\n",
    "    distances = [(group, Levenshtein.distance(text, group)/(len(text)+len(group))*2) for group in idol_group_list]\n",
    "    distances.sort(key=lambda x: x[1])# 距離が小さい順にソート\n",
    "    if nearest_only:\n",
    "        threshold_distance = distances[0][1]\n",
    "        if threshold_distance>edit_distance_r:\n",
    "            return [],[]\n",
    "        else:\n",
    "            closest_groups = [group for group, distance in distances if distance <= threshold_distance]\n",
    "            closest_distances = [distance for group, distance in distances if distance <= threshold_distance]\n",
    "    else:\n",
    "        closest_groups = [group for group, distance in distances if distance <= edit_distance_r]\n",
    "        closest_distances = [distance for group, distance in distances if distance <= edit_distance_r]\n",
    "    return closest_groups, closest_distances"
   ]
  },
  {
   "cell_type": "code",
   "execution_count": 43,
   "metadata": {},
   "outputs": [
    {
     "data": {
      "text/plain": [
       "(['アンジュルム', 'アンクノー。', 'アンシュア'], [3, 4, 4])"
      ]
     },
     "execution_count": 43,
     "metadata": {},
     "output_type": "execute_result"
    }
   ],
   "source": [
    "find_similar_levenshtein(\"アンジュレーブ\", 3)"
   ]
  },
  {
   "cell_type": "code",
   "execution_count": 40,
   "metadata": {},
   "outputs": [
    {
     "data": {
      "text/plain": [
       "(['アンジュルム',\n",
       "  'アンクノー。',\n",
       "  'アンシュア',\n",
       "  'アンジェル',\n",
       "  'アンスリューム',\n",
       "  'アンソルスレール',\n",
       "  'アンチテーゼ',\n",
       "  'アンフィナーレ',\n",
       "  'ノンシュガー'],\n",
       " [3, 4, 4, 4, 4, 4, 4, 4, 4])"
      ]
     },
     "execution_count": 40,
     "metadata": {},
     "output_type": "execute_result"
    }
   ],
   "source": [
    "find_similar_levenshtein(\"アンジュレーブ\", 3,True)"
   ]
  },
  {
   "cell_type": "code",
   "execution_count": 50,
   "metadata": {},
   "outputs": [
    {
     "data": {
      "text/plain": [
       "([], [])"
      ]
     },
     "execution_count": 50,
     "metadata": {},
     "output_type": "execute_result"
    }
   ],
   "source": [
    "find_similar_levenshtein_distance(\"アンジュレーブ\", edit_distance=2, nearest_only=False)"
   ]
  },
  {
   "cell_type": "code",
   "execution_count": 44,
   "metadata": {},
   "outputs": [
    {
     "data": {
      "text/plain": [
       "(['アンジュルム'], [3])"
      ]
     },
     "execution_count": 44,
     "metadata": {},
     "output_type": "execute_result"
    }
   ],
   "source": [
    "find_similar_levenshtein_distance(\"アンジュレーブ\", edit_distance=3, nearest_only=False)"
   ]
  },
  {
   "cell_type": "code",
   "execution_count": 53,
   "metadata": {},
   "outputs": [
    {
     "data": {
      "text/plain": [
       "(['アンジュルム',\n",
       "  'アンクノー。',\n",
       "  'アンシュア',\n",
       "  'アンジェル',\n",
       "  'アンスリューム',\n",
       "  'アンソルスレール',\n",
       "  'アンチテーゼ',\n",
       "  'アンフィナーレ',\n",
       "  'ノンシュガー'],\n",
       " [3, 4, 4, 4, 4, 4, 4, 4, 4])"
      ]
     },
     "execution_count": 53,
     "metadata": {},
     "output_type": "execute_result"
    }
   ],
   "source": [
    "find_similar_levenshtein_distance(\"アンジュレーブ\", edit_distance=4, nearest_only=False)"
   ]
  },
  {
   "cell_type": "code",
   "execution_count": 47,
   "metadata": {},
   "outputs": [
    {
     "data": {
      "text/plain": [
       "(['アンジュルム'], [3])"
      ]
     },
     "execution_count": 47,
     "metadata": {},
     "output_type": "execute_result"
    }
   ],
   "source": [
    "find_similar_levenshtein_distance(\"アンジュレーブ\", edit_distance=4, nearest_only=True)"
   ]
  },
  {
   "cell_type": "code",
   "execution_count": 57,
   "metadata": {},
   "outputs": [
    {
     "data": {
      "text/plain": [
       "(['アンジュルム'], [0.46153846153846156])"
      ]
     },
     "execution_count": 57,
     "metadata": {},
     "output_type": "execute_result"
    }
   ],
   "source": [
    "find_similar_levenshtein_distance_rate(\"アンジュレーブ\", edit_distance_r=0.5, nearest_only=False)"
   ]
  },
  {
   "cell_type": "code",
   "execution_count": 58,
   "metadata": {},
   "outputs": [
    {
     "data": {
      "text/plain": [
       "(['アンジュルム', 'アンソルスレール', 'アンスリューム', 'アンフィナーレ'],\n",
       " [0.46153846153846156,\n",
       "  0.5333333333333333,\n",
       "  0.5714285714285714,\n",
       "  0.5714285714285714])"
      ]
     },
     "execution_count": 58,
     "metadata": {},
     "output_type": "execute_result"
    }
   ],
   "source": [
    "find_similar_levenshtein_distance_rate(\"アンジュレーブ\", edit_distance_r=0.6, nearest_only=False)"
   ]
  },
  {
   "cell_type": "code",
   "execution_count": null,
   "metadata": {},
   "outputs": [],
   "source": []
  },
  {
   "cell_type": "code",
   "execution_count": 74,
   "metadata": {},
   "outputs": [
    {
     "data": {
      "text/plain": [
       "(4, 101)"
      ]
     },
     "execution_count": 74,
     "metadata": {},
     "output_type": "execute_result"
    }
   ],
   "source": [
    "embeddings.shape"
   ]
  },
  {
   "cell_type": "code",
   "execution_count": null,
   "metadata": {},
   "outputs": [],
   "source": []
  },
  {
   "cell_type": "code",
   "execution_count": 76,
   "metadata": {},
   "outputs": [],
   "source": [
    "# data = pd.read_csv(os.path.join(DATA_PATH, \"master/idolname_embedding_data.csv\"))\n",
    "def find_similar_inlist(text, candidate_list, k=1):\n",
    "    data_candidate = data[data.apply(lambda row:row[\"idol_group_name\"] in candidate_list, axis=1)].reset_index(drop=True)\n",
    "    embeddings = data_candidate.drop(\"idol_group_name\",axis=1).values\n",
    "    d = len(embeddings[0])  # 次元数\n",
    "    index = faiss.IndexFlatL2(d)\n",
    "    index.add(embeddings)\n",
    "    embedding = np.array([get_embedding(text)]).astype('float32')\n",
    "    distances, indices = index.search(embedding, k)\n",
    "    return indices[0], distances[0]\n",
    "\n",
    "def find_similar_inlist_returnidol(text, candidate_list, k=1):\n",
    "    data_candidate = data[data.apply(lambda row:row[\"idol_group_name\"] in candidate_list, axis=1)].reset_index(drop=True)\n",
    "    embeddings = data_candidate.drop(\"idol_group_name\",axis=1).values\n",
    "    d = len(embeddings[0])  # 次元数\n",
    "    index = faiss.IndexFlatL2(d)\n",
    "    index.add(embeddings)\n",
    "    embedding = np.array([get_embedding(text)]).astype('float32')\n",
    "    distances, indices = index.search(embedding, k)\n",
    "    if k==1:\n",
    "        return data_candidate.iloc[indices[0][0]]['idol_group_name']\n",
    "    else:\n",
    "        return [data_candidate.iloc[idx]['idol_group_name'] for idx in indices[0]], distances[0]\n"
   ]
  },
  {
   "cell_type": "code",
   "execution_count": 84,
   "metadata": {},
   "outputs": [
    {
     "data": {
      "text/plain": [
       "'アンジュルム'"
      ]
     },
     "execution_count": 84,
     "metadata": {},
     "output_type": "execute_result"
    }
   ],
   "source": [
    "text = \"アンジュレーブ\"\n",
    "candidate_list = ['アンジュルム', 'アンソルスレール', 'アンスリューム', 'アンフィナーレ']\n",
    "find_similar_inlist_returnidol(text, candidate_list, k=1)"
   ]
  },
  {
   "cell_type": "code",
   "execution_count": 87,
   "metadata": {},
   "outputs": [],
   "source": [
    "def get_name_by_levenshtein_and_vector(text, r=0.3):\n",
    "    #①編集距離÷文字数がr以下の候補をリストアップ\n",
    "    groups, _ = find_similar_levenshtein_distance_rate(text, edit_distance_r=r, nearest_only=True)\n",
    "    if len(groups)==1:#②候補の中で最も距離が小さいものが1つだけならそれを採用\n",
    "        return groups[0]\n",
    "    elif len(groups)>1:#③候補の中で最も距離が小さいものが複数あるなら、AIでベクトル化して候補複数の中から距離最小のものを採用\n",
    "        return find_similar_inlist_returnidol(text, groups, k=1)\n",
    "    else:#④候補が1つも無ければAIでベクトル化して全グループの中から距離最小のものを採用\n",
    "        return find_similar_returnidol(text, 1)[0][0]"
   ]
  },
  {
   "cell_type": "code",
   "execution_count": 89,
   "metadata": {},
   "outputs": [
    {
     "name": "stdout",
     "output_type": "stream",
     "text": [
      "WEAR\n",
      "Appare!\n",
      "Appare!\n"
     ]
    }
   ],
   "source": [
    "text = \"Apparel\"\n",
    "print(get_name_by_levenshtein_and_vector(text, r=0.1))\n",
    "print(get_name_by_levenshtein_and_vector(text, r=0.3))\n",
    "print(get_name_by_levenshtein_and_vector(text, r=0.5))"
   ]
  },
  {
   "cell_type": "code",
   "execution_count": 91,
   "metadata": {},
   "outputs": [
    {
     "name": "stdout",
     "output_type": "stream",
     "text": [
      "7限目のフルール\n",
      "7限目のフルール\n",
      "7限目のフルール\n"
     ]
    }
   ],
   "source": [
    "text = \"<PlusFrt>ルートプリュフォール\"\n",
    "print(get_name_by_levenshtein_and_vector(text, r=0.1))\n",
    "print(get_name_by_levenshtein_and_vector(text, r=0.3))\n",
    "print(get_name_by_levenshtein_and_vector(text, r=0.5))"
   ]
  }
 ],
 "metadata": {
  "language_info": {
   "name": "python"
  }
 },
 "nbformat": 4,
 "nbformat_minor": 2
}
