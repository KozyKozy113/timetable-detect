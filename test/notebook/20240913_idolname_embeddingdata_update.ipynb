{
 "cells": [
  {
   "cell_type": "code",
   "execution_count": 1,
   "metadata": {},
   "outputs": [],
   "source": [
    "import os\n",
    "from dotenv import load_dotenv\n",
    "load_dotenv()\n",
    "from openai import OpenAI\n",
    "\n",
    "openai_api_key = os.getenv('OPENAI_API_KEY')\n",
    "if openai_api_key:\n",
    "    OpenAI.api_key = openai_api_key\n",
    "client = OpenAI()\n",
    "\n",
    "\n",
    "import pandas as pd\n",
    "import numpy as np\n",
    "import time"
   ]
  },
  {
   "cell_type": "code",
   "execution_count": 2,
   "metadata": {},
   "outputs": [],
   "source": [
    "BATCH_SIZE = 1000\n",
    "DIMENTION_EMBEDDING = 100\n",
    "EMBEDDING_MODEL = 'text-embedding-3-small'"
   ]
  },
  {
   "cell_type": "code",
   "execution_count": 3,
   "metadata": {},
   "outputs": [],
   "source": [
    "# OpenAI APIを使ってテキストをエンベディング\n",
    "def get_embedding(input_text, dimention=DIMENTION_EMBEDDING, model=EMBEDDING_MODEL):\n",
    "    if type(input_text) == str:\n",
    "        input_text = [input_text]\n",
    "    try:\n",
    "        response = client.embeddings.create(\n",
    "            model=model,\n",
    "            input=input_text,\n",
    "            dimensions=dimention\n",
    "        )\n",
    "        if len(input_text)==1:\n",
    "            response.data[0].embedding\n",
    "        else:\n",
    "            return [e.embedding for e in response.data]\n",
    "    except Exception as e:\n",
    "        print(f\"Error: {e}\")\n",
    "        return None\n",
    "    \n",
    "def get_embedding_batch(input_text, dimention=DIMENTION_EMBEDDING, batch_size=BATCH_SIZE, model=EMBEDDING_MODEL):\n",
    "    if type(input_text) == str:\n",
    "        input_text = [input_text]\n",
    "    embeddings = []\n",
    "    for batch_start in range(0, len(input_text), batch_size):\n",
    "        batch_end = batch_start + batch_size\n",
    "        batch = input_text[batch_start:batch_end]\n",
    "        try:\n",
    "            response = client.embeddings.create(\n",
    "                model=model,\n",
    "                input=batch,\n",
    "                dimensions=dimention\n",
    "            )\n",
    "            embeddings.extend([e.embedding for e in response.data])\n",
    "        except Exception as e:\n",
    "            print(f\"Error: {e}\")\n",
    "            return None\n",
    "    return embeddings"
   ]
  },
  {
   "cell_type": "code",
   "execution_count": 5,
   "metadata": {},
   "outputs": [],
   "source": [
    "idol_list = pd.read_csv('../../data/master/idolname_20241113.csv', encoding='utf-8')\n",
    "idol_list_before = pd.read_csv('../../data/master/idolname_embedding_data.csv', encoding='utf-8')\n"
   ]
  },
  {
   "cell_type": "code",
   "execution_count": 9,
   "metadata": {},
   "outputs": [],
   "source": [
    "# CSVファイルを読み込む\n",
    "idol_list = pd.read_csv('../../data/master/idolname_20241113.csv', encoding='utf-8')\n",
    "try:\n",
    "    idol_data = pd.read_csv('../../data/master/idolname_embedding_data.csv', encoding='utf-8')\n",
    "    idol_list_old = list(idol_data[\"idol_group_name\"])\n",
    "except FileNotFoundError:\n",
    "    idol_data = pd.DataFrame([],columns=[\"idol_group_name\"])\n",
    "    idol_list_old = []\n",
    "\n",
    "new_idol_list = []\n",
    "for idol in idol_list[\"idol_group_name\"]:\n",
    "    if idol not in idol_list_old:\n",
    "        new_idol_list.append(idol)\n",
    "\n",
    "# レート制限を考慮して、各テキストに対してエンベディングを取得\n",
    "#バッジ処理でできるように書き換えたい\n",
    "embeddings = get_embedding_batch(new_idol_list)\n",
    "\n",
    "# embeddings = []\n",
    "# for text in new_idol_list:\n",
    "#     embedding = get_embedding(text)\n",
    "#     if embedding is not None:\n",
    "#         embeddings.append(embedding)\n",
    "#     else:\n",
    "#         embeddings.append([0]*1536)  # エンベディングサイズに合わせてゼロベクトルを挿入\n",
    "#     time.sleep(0.1)  # レート制限を避けるために待機"
   ]
  },
  {
   "cell_type": "code",
   "execution_count": 10,
   "metadata": {},
   "outputs": [],
   "source": [
    "new_data = pd.concat((pd.DataFrame(new_idol_list,columns=[\"idol_group_name\"]),pd.DataFrame(embeddings)),axis=1)\n",
    "new_data.columns = [str(col) for col in new_data.columns]\n",
    "pd.concat((idol_data,new_data)).to_csv('../../data/master/idolname_embedding_data.csv', encoding='utf-8', index=False)"
   ]
  },
  {
   "cell_type": "code",
   "execution_count": null,
   "metadata": {},
   "outputs": [],
   "source": []
  },
  {
   "cell_type": "code",
   "execution_count": 21,
   "metadata": {},
   "outputs": [],
   "source": [
    "def normalize_l2(X,dim):\n",
    "    X = np.array(X)[:,:dim]\n",
    "    norms = np.linalg.norm(X, axis=1, keepdims=True)\n",
    "    # ノルムがゼロの要素を特定\n",
    "    zero_norms = (norms == 0)\n",
    "    # ゼロ除算を防ぐためにノルムがゼロの要素を1に置換\n",
    "    norms[zero_norms] = 1\n",
    "    # 各ベクトルを対応するノルムで割る\n",
    "    X_normalized = X / norms\n",
    "    # 元のノルムがゼロだったベクトルを元のままに戻す\n",
    "    X_normalized[zero_norms.flatten()] = X[zero_norms.flatten()]\n",
    "    return X_normalized\n",
    "\n",
    "cut_dim = embeddings\n",
    "norm_dim = normalize_l2(cut_dim,100)"
   ]
  },
  {
   "cell_type": "code",
   "execution_count": 22,
   "metadata": {},
   "outputs": [
    {
     "data": {
      "text/plain": [
       "(6010, 100)"
      ]
     },
     "execution_count": 22,
     "metadata": {},
     "output_type": "execute_result"
    }
   ],
   "source": [
    "norm_dim.shape"
   ]
  },
  {
   "cell_type": "code",
   "execution_count": 25,
   "metadata": {},
   "outputs": [],
   "source": [
    "idolname_embedding_data = pd.DataFrame(norm_dim,index=texts)#100次元\n",
    "idolname_embedding_data.index.name = \"idol_group_name\"\n",
    "idolname_embedding_data.to_csv('../../data/master/idolname_embedding_data.csv', encoding='utf-8')"
   ]
  }
 ],
 "metadata": {
  "kernelspec": {
   "display_name": ".venv",
   "language": "python",
   "name": "python3"
  },
  "language_info": {
   "codemirror_mode": {
    "name": "ipython",
    "version": 3
   },
   "file_extension": ".py",
   "mimetype": "text/x-python",
   "name": "python",
   "nbconvert_exporter": "python",
   "pygments_lexer": "ipython3",
   "version": "3.10.9"
  }
 },
 "nbformat": 4,
 "nbformat_minor": 2
}
