{
 "cells": [
  {
   "cell_type": "code",
   "execution_count": 10,
   "metadata": {},
   "outputs": [],
   "source": [
    "import os\n",
    "import sys\n",
    "DIR_PATH = os.getcwd()\n",
    "font_path = os.path.abspath(os.path.join(DIR_PATH, \"../../src/frontend_functions\" , \"Fonts/BIZ-UDGothicB.ttc\"))"
   ]
  },
  {
   "cell_type": "code",
   "execution_count": null,
   "metadata": {},
   "outputs": [],
   "source": [
    "from PIL import Image, ImageDraw, ImageFont\n",
    "import datetime\n",
    "\n",
    "def create_timetable_image(json_data, output_path=\"timetable.png\", box_color=\"yellow\"):\n",
    "    # 画像の基本設定\n",
    "    image_width = 400\n",
    "    image_height = 1200\n",
    "    margin = 50\n",
    "    time_line_spacing = 90  # 縦pixel幅/30分ごと\n",
    "    text_color = \"black\"\n",
    "    background_color = \"white\"\n",
    "    line_color = \"gray\"\n",
    "    \n",
    "    # タイムテーブルの時間範囲を計算\n",
    "    time_format = \"%H:%M\"\n",
    "    start_time = min(datetime.datetime.strptime(live[\"ライブステージ\"][\"from\"], time_format) \n",
    "                     for live in json_data[\"タイムテーブル\"])\n",
    "    end_time = max(datetime.datetime.strptime(live[\"ライブステージ\"][\"to\"], time_format) \n",
    "                   for live in json_data[\"タイムテーブル\"])\n",
    "    \n",
    "    # タイムテーブル全体の時間範囲を30分刻みに拡張\n",
    "    start_time = start_time.replace(minute=0)\n",
    "    end_time = end_time.replace(minute=0) + datetime.timedelta(hours=1)\n",
    "    total_minutes = int((end_time - start_time).total_seconds() / 60)\n",
    "    \n",
    "    # 画像の高さを動的に調整\n",
    "    image_height = margin * 2 + (total_minutes // 30) * time_line_spacing\n",
    "    \n",
    "    # 画像を生成\n",
    "    image = Image.new(\"RGB\", (image_width, image_height), background_color)\n",
    "    draw = ImageDraw.Draw(image)\n",
    "    \n",
    "    # フォントの設定（必要に応じて変更）\n",
    "    try:\n",
    "        font = ImageFont.truetype('\\C:\\Windows\\Fonts\\BIZ-UDGothicB.ttc', 15)\n",
    "        font = ImageFont.truetype(font_path, 15)\n",
    "        # font = ImageFont.truetype(\"arial.ttf\", 20)\n",
    "    except IOError:\n",
    "        font = ImageFont.load_default()\n",
    "\n",
    "    # 時間軸を描画\n",
    "    current_y = margin\n",
    "    current_time = start_time\n",
    "    while current_time <= end_time:\n",
    "        draw.line([(margin, current_y), (image_width - margin, current_y)], fill=line_color, width=1)\n",
    "        draw.text((10, current_y - 10), current_time.strftime(\"%H:%M\"), fill=text_color, font=font)\n",
    "        current_y += time_line_spacing\n",
    "        current_time += datetime.timedelta(minutes=30)\n",
    "    \n",
    "    # 各ライブ枠を描画\n",
    "    for live in json_data[\"タイムテーブル\"]:\n",
    "        # 開始時間と終了時間を計算\n",
    "        start = datetime.datetime.strptime(live[\"ライブステージ\"][\"from\"], time_format)\n",
    "        end = datetime.datetime.strptime(live[\"ライブステージ\"][\"to\"], time_format)\n",
    "        minutes = int((end-start).total_seconds() / 60)\n",
    "\n",
    "        start_y = margin + int((start - start_time).total_seconds() / 60 / 30 * time_line_spacing)\n",
    "        end_y = margin + int((end - start_time).total_seconds() / 60 / 30 * time_line_spacing)\n",
    "        \n",
    "        # 枠を描画\n",
    "        draw.rectangle([(margin + 20, start_y), (image_width - margin - 20, end_y)], \n",
    "                       fill=box_color, outline=\"black\")\n",
    "        \n",
    "        # テキストを描画\n",
    "        try:\n",
    "            artist_name = live[\"グループ名_採用\"]\n",
    "            if artist_name==\"\" or artist_name is None:\n",
    "                artist_name = live[\"グループ名\"]\n",
    "        except KeyError:\n",
    "            artist_name = live[\"グループ名\"]\n",
    "\n",
    "        time_text = f\"{live['ライブステージ']['from']} ～ {live['ライブステージ']['to']} ({minutes})\"\n",
    "        text_x = margin + 30\n",
    "        text_y = (start_y + end_y) // 2 - 20\n",
    "        draw.text((text_x, text_y), artist_name, fill=text_color, font=font)\n",
    "        draw.text((text_x, text_y + 20), time_text, fill=text_color, font=font)\n",
    "    \n",
    "    # 画像を保存\n",
    "    image.save(output_path)\n",
    "    print(f\"タイムテーブル画像が作成されました: {output_path}\")"
   ]
  },
  {
   "cell_type": "code",
   "execution_count": 12,
   "metadata": {},
   "outputs": [
    {
     "name": "stdout",
     "output_type": "stream",
     "text": [
      "タイムテーブル画像が作成されました: timetable.png\n"
     ]
    }
   ],
   "source": [
    "import json\n",
    "json_path = \"../../data/projects/超明星現象2024/event_1/ライブ/stage_1.json\"\n",
    "with open(json_path, encoding=\"utf-8\") as f:\n",
    "    json_data = json.load(f)\n",
    "\n",
    "# タイムテーブル画像を作成\n",
    "create_timetable_image(json_data)"
   ]
  },
  {
   "cell_type": "code",
   "execution_count": null,
   "metadata": {},
   "outputs": [],
   "source": []
  }
 ],
 "metadata": {
  "kernelspec": {
   "display_name": ".venv",
   "language": "python",
   "name": "python3"
  },
  "language_info": {
   "codemirror_mode": {
    "name": "ipython",
    "version": 3
   },
   "file_extension": ".py",
   "mimetype": "text/x-python",
   "name": "python",
   "nbconvert_exporter": "python",
   "pygments_lexer": "ipython3",
   "version": "3.10.9"
  }
 },
 "nbformat": 4,
 "nbformat_minor": 2
}
