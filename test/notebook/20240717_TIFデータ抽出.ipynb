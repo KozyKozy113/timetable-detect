{
 "cells": [
  {
   "cell_type": "code",
   "execution_count": 27,
   "metadata": {},
   "outputs": [],
   "source": [
    "from selenium import webdriver\n",
    "from selenium.webdriver.common.by import By\n",
    "\n",
    "import pandas as pd"
   ]
  },
  {
   "cell_type": "code",
   "execution_count": 3,
   "metadata": {},
   "outputs": [],
   "source": [
    "driver = webdriver.Chrome()\n",
    "driver.get(\"https://official.idolfes.com/s/tif2024/page/timetable\")"
   ]
  },
  {
   "cell_type": "code",
   "execution_count": 36,
   "metadata": {},
   "outputs": [
    {
     "name": "stdout",
     "output_type": "stream",
     "text": [
      "日付: 8/2 Fri \n",
      "ステージ名: HOT STAGE\n",
      "ステージ名: HEAT GARAGE\n",
      "ステージ名: SMILE GARDEN\n",
      "ステージ名: DOLL FACTORY\n",
      "ステージ名: SKY STAGE\n",
      "ステージ名: DREAM STAGE\n",
      "ステージ名: 浮島STAGE\n",
      "ステージ名: INFO CENTRE\n",
      "日付: 8/3 Sat \n",
      "ステージ名: HOT STAGE\n",
      "ステージ名: HEAT GARAGE\n",
      "ステージ名: SMILE GARDEN\n",
      "ステージ名: DOLL FACTORY\n",
      "ステージ名: SKY STAGE\n",
      "ステージ名: DREAM STAGE\n",
      "ステージ名: 浮島STAGE\n",
      "ステージ名: INFO CENTRE\n",
      "日付: 8/4 Sun \n",
      "ステージ名: HOT STAGE\n",
      "ステージ名: HEAT GARAGE\n",
      "ステージ名: SMILE GARDEN\n",
      "ステージ名: DOLL FACTORY\n",
      "ステージ名: SKY STAGE\n",
      "ステージ名: DREAM STAGE\n",
      "ステージ名: 浮島STAGE\n",
      "ステージ名: INFO CENTRE\n"
     ]
    }
   ],
   "source": [
    "data = []\n",
    "for stages_eachday in driver.find_elements(By.CLASS_NAME,\"p-timetable__main-block\"):\n",
    "    date_title = stages_eachday.find_element(By.CLASS_NAME,\"p-timetable__main-ttl\").get_property(\"innerHTML\")\n",
    "    print(\"日付:\",date_title)\n",
    "    for stage in stages_eachday.find_element(By.CLASS_NAME,\"p-timetable__table-wrap\").find_elements(By.CLASS_NAME,\"p-timetable__table-column\"):\n",
    "        stage_name = stage.find_element(By.CLASS_NAME,\"p-in-stage\").get_property(\"innerHTML\")\n",
    "        if \"浮島STAGE\" in stage_name:\n",
    "            stage_name=\"浮島STAGE\"\n",
    "        print(\"ステージ名:\",stage_name)\n",
    "        for timetable_item in stage.find_elements(By.CLASS_NAME,\"p-timetable__table-item\"):\n",
    "            artist_name = timetable_item.find_element(By.CLASS_NAME,\"p-in-title\").get_property(\"innerHTML\")\n",
    "            artist_time = timetable_item.find_element(By.CLASS_NAME,\"p-in-time\").get_property(\"innerHTML\")\n",
    "            data.append([date_title,stage_name,artist_name,artist_time.split(\"-\")[0],artist_time.split(\"-\")[1]])\n",
    "            # print(artist_name)\n",
    "            # print(artist_time)\n",
    "df_data = pd.DataFrame(data,columns=[\"日付\",\"ステージ名\",\"アーティスト名\",\"開始時間\",\"終了時間\"])"
   ]
  },
  {
   "cell_type": "code",
   "execution_count": 35,
   "metadata": {},
   "outputs": [],
   "source": [
    "df_data.to_csv(\"data/20240717_TIF2024.csv\")"
   ]
  },
  {
   "cell_type": "code",
   "execution_count": null,
   "metadata": {},
   "outputs": [],
   "source": []
  },
  {
   "cell_type": "code",
   "execution_count": null,
   "metadata": {},
   "outputs": [],
   "source": []
  }
 ],
 "metadata": {
  "kernelspec": {
   "display_name": ".venv",
   "language": "python",
   "name": "python3"
  },
  "language_info": {
   "codemirror_mode": {
    "name": "ipython",
    "version": 3
   },
   "file_extension": ".py",
   "mimetype": "text/x-python",
   "name": "python",
   "nbconvert_exporter": "python",
   "pygments_lexer": "ipython3",
   "version": "3.10.9"
  }
 },
 "nbformat": 4,
 "nbformat_minor": 2
}
