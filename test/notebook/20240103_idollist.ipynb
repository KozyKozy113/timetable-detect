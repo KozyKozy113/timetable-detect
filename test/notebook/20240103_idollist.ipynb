{
 "cells": [
  {
   "cell_type": "code",
   "execution_count": 1,
   "metadata": {},
   "outputs": [],
   "source": [
    "import csv\n",
    "import os\n",
    "\n",
    "# 入力ファイルパス\n",
    "doc_folder = os.getcwd()+\"/../../data/\"\n",
    "input_filepath = doc_folder + 'idolname.txt'\n",
    "# 出力ファイルパス\n",
    "output_filepath = doc_folder + 'idolname.csv'\n",
    "\n",
    "# テキストファイルを開いて、CSVファイルに書き込む\n",
    "with open(input_filepath, 'r', encoding='utf-8') as infile, \\\n",
    "     open(output_filepath, 'w', newline='', encoding='utf-8') as outfile:\n",
    "    \n",
    "    # CSVライターを作成\n",
    "    writer = csv.writer(outfile)\n",
    "    \n",
    "    # ヘッダーを書き込む場合（必要に応じてコメントアウトを解除）\n",
    "    # writer.writerow(['header_name'])\n",
    "    \n",
    "    # テキストファイルから行を読み込んでCSVに書き込む\n",
    "    for line in infile:\n",
    "        # 改行文字を削除し、カラムが1つのリストを作成\n",
    "        writer.writerow([line.strip()])\n"
   ]
  }
 ],
 "metadata": {
  "kernelspec": {
   "display_name": ".venv",
   "language": "python",
   "name": "python3"
  },
  "language_info": {
   "codemirror_mode": {
    "name": "ipython",
    "version": 3
   },
   "file_extension": ".py",
   "mimetype": "text/x-python",
   "name": "python",
   "nbconvert_exporter": "python",
   "pygments_lexer": "ipython3",
   "version": "3.10.9"
  },
  "orig_nbformat": 4
 },
 "nbformat": 4,
 "nbformat_minor": 2
}
