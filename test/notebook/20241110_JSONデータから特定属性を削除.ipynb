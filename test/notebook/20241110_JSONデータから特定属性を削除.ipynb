{
 "cells": [
  {
   "cell_type": "code",
   "execution_count": 1,
   "metadata": {},
   "outputs": [],
   "source": [
    "import os\n",
    "import sys\n",
    "import shutil\n",
    "import json"
   ]
  },
  {
   "cell_type": "code",
   "execution_count": 9,
   "metadata": {},
   "outputs": [
    {
     "name": "stdout",
     "output_type": "stream",
     "text": [
      "{'グループ名': 'NEO JAPONISM', 'ライブステージ': {'from': '21:15', 'to': '22:30'}}\n",
      "{'グループ名': '高嶺のなでしこ', 'ライブステージ': {'from': '21:15', 'to': '22:30'}}\n",
      "{'グループ名': '疾星とカラテア', 'ライブステージ': {'from': '21:15', 'to': '22:30'}}\n"
     ]
    }
   ],
   "source": [
    "for i in range(len(timetable_json[\"タイムテーブル\"])):\n",
    "    del timetable_json[\"タイムテーブル\"][i][\"グループ名_採用\"]\n",
    "    print(timetable_json[\"タイムテーブル\"][i])\n"
   ]
  },
  {
   "cell_type": "code",
   "execution_count": 12,
   "metadata": {},
   "outputs": [
    {
     "name": "stdout",
     "output_type": "stream",
     "text": [
      "../../data/projects/超明星現象2024/event_1/特典会\n",
      "../../data/projects/超明星現象2024/event_1/終演後特典会\n"
     ]
    }
   ],
   "source": [
    "pj_dir = \"../../data/projects\"\n",
    "pj_name = \"超明星現象2024\"\n",
    "for event_no in [\"event_1\"]:#os.listdir(pj_dir+\"/\"+pj_name):\n",
    "    for event_type in [\"特典会\",\"終演後特典会\"]:#os.listdir(pj_dir+\"/\"+pj_name+\"/\"+event_no):\n",
    "        folder_name = pj_dir+\"/\"+pj_name+\"/\"+event_no+\"/\"+event_type\n",
    "        print(folder_name)\n",
    "        file_names = os.listdir(folder_name)\n",
    "        for file_name in file_names:\n",
    "            if file_name[-5:] == \".json\":\n",
    "                json_path = pj_dir+\"/\"+pj_name+\"/\"+event_no+\"/\"+event_type+\"/\"+file_name\n",
    "                with open(json_path, encoding=\"utf-8\") as f:\n",
    "                    timetable_json = json.load(f)\n",
    "                for i in range(len(timetable_json[\"タイムテーブル\"])):\n",
    "                    if \"グループ名_採用\" in timetable_json[\"タイムテーブル\"][i]:\n",
    "                        del timetable_json[\"タイムテーブル\"][i][\"グループ名_採用\"]\n",
    "                with open(json_path,\"w\",encoding = \"utf8\") as f:\n",
    "                    json.dump(timetable_json, f, indent = 4, ensure_ascii = False)\n"
   ]
  }
 ],
 "metadata": {
  "kernelspec": {
   "display_name": ".venv",
   "language": "python",
   "name": "python3"
  },
  "language_info": {
   "codemirror_mode": {
    "name": "ipython",
    "version": 3
   },
   "file_extension": ".py",
   "mimetype": "text/x-python",
   "name": "python",
   "nbconvert_exporter": "python",
   "pygments_lexer": "ipython3",
   "version": "3.10.9"
  }
 },
 "nbformat": 4,
 "nbformat_minor": 2
}
