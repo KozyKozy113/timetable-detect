{
 "cells": [
  {
   "cell_type": "code",
   "execution_count": 1,
   "metadata": {},
   "outputs": [],
   "source": [
    "from dotenv import load_dotenv\n",
    "load_dotenv()\n",
    "from openai import OpenAI\n",
    "client = OpenAI()"
   ]
  },
  {
   "cell_type": "code",
   "execution_count": 2,
   "metadata": {},
   "outputs": [],
   "source": [
    "import os\n",
    "import sys\n",
    "import base64\n",
    "import json\n",
    "import pandas as pd"
   ]
  },
  {
   "cell_type": "code",
   "execution_count": 3,
   "metadata": {},
   "outputs": [],
   "source": [
    "root_directory = os.path.dirname(os.path.dirname(os.getcwd()))\n",
    "sys.path.append(os.path.join(root_directory,\"src\"))\n",
    "\n",
    "from backend_functions import gpt_ocr, timetabledata"
   ]
  },
  {
   "cell_type": "code",
   "execution_count": 6,
   "metadata": {},
   "outputs": [
    {
     "data": {
      "text/plain": [
       "<module 'backend_functions.timetabledata' from 'c:\\\\Users\\\\kkoaz\\\\Documents\\\\projects\\\\product\\\\timetable-detect\\\\timetable-detect\\\\src\\\\backend_functions\\\\timetabledata.py'>"
      ]
     },
     "execution_count": 6,
     "metadata": {},
     "output_type": "execute_result"
    }
   ],
   "source": [
    "import importlib\n",
    "importlib.reload(gpt_ocr)\n",
    "importlib.reload(timetabledata)"
   ]
  },
  {
   "cell_type": "code",
   "execution_count": 10,
   "metadata": {},
   "outputs": [],
   "source": [
    "prompt_system_info = \"\"\"\n",
    "あなたは日本語に長けていて、また日本のアイドルシーンに詳しい専門家です。\n",
    "与えられる画像は日本のアイドルのフェスについてのタイムテーブルです。\n",
    "そこから情報を読み取り、\n",
    "・ライブの名前\n",
    "・会場の名前\n",
    "・日付\n",
    "・ステージ数\n",
    "・各ステージの名前\n",
    "を下記のようなJSON形式で出力してください。\n",
    "\n",
    "{\n",
    "    \"ライブ名\":\"TOKYO GIRLS GIRLS\"\n",
    "    ,\"会場名\":\"ZeppDiverCity\"\n",
    "    ,\"日付\":\"2024-08-03\"\n",
    "    ,\"ステージ数\":3\n",
    "    ,\"ステージ名\":[\"スマイルガーデン\",\"SKY STAGE\",\"ガンダム広場\"]\n",
    "}\n",
    "\"\"\""
   ]
  },
  {
   "cell_type": "code",
   "execution_count": 9,
   "metadata": {},
   "outputs": [
    {
     "data": {
      "text/plain": [
       "{'ライブ名': 'JAPAN CENTRAL IDOL FESTIVAL 2024',\n",
       " '会場名': 'AICHI SKY EXPO',\n",
       " '日付': '2024-05-03',\n",
       " 'ステージ数': 5,\n",
       " 'ステージ名': ['CENTRAL STAGE',\n",
       "  'DREAM STAGE',\n",
       "  'SKY STAGE',\n",
       "  'OCEAN STAGE',\n",
       "  'CORAL STAGE']}"
      ]
     },
     "execution_count": 9,
     "metadata": {},
     "output_type": "execute_result"
    }
   ],
   "source": [
    "doc_folder = os.getcwd()+\"/../../data/\"\n",
    "image_path = doc_folder + \"timetable_sample/20240503_JCIF-LIVE.jpeg\"\n",
    "response = gpt_ocr.getocr(image_path, \"このタイムテーブルの情報を教えて\", prompt_system_info)\n",
    "json.loads(response.choices[0].message.content)"
   ]
  },
  {
   "cell_type": "code",
   "execution_count": 15,
   "metadata": {},
   "outputs": [
    {
     "data": {
      "text/plain": [
       "{'ライブ名': 'RAD JAM',\n",
       " '会場名': 'AICHI SKY EXPO',\n",
       " '日付': '2024-06-16',\n",
       " 'ステージ数': 3,\n",
       " 'ステージ名': ['SUPER!GMG STAGE (Bホール)',\n",
       "  'NAGOYA ReNY Limited (Cホール)',\n",
       "  'FaveConnect STAGE (Dホール野外)']}"
      ]
     },
     "execution_count": 15,
     "metadata": {},
     "output_type": "execute_result"
    }
   ],
   "source": [
    "image_path = doc_folder + \"timetable_sample/20240616_RADJAM.jpg\"\n",
    "response = gpt_ocr.getocr(image_path, \"このタイムテーブルの情報を教えて\", prompt_system_info)\n",
    "json.loads(response.choices[0].message.content)"
   ]
  },
  {
   "cell_type": "code",
   "execution_count": 11,
   "metadata": {},
   "outputs": [],
   "source": [
    "prompt_system_timetable = \"\"\"\n",
    "あなたは日本語に長けていて、また日本のアイドルシーンに詳しい専門家です。\n",
    "与えられる画像は日本のアイドルのフェスについてのタイムテーブルです。\n",
    "画像の中から、ユーザーから指定されたステージ名についての情報のみを抽出し、\n",
    "そのタイムテーブルの情報（出演するアイドルの一覧とその出演時間）を\n",
    "JSON形式で出力してください。\n",
    "\n",
    "#出演時間について\n",
    "属性として「開始時間(from)」「終了時間(to)」を持ちます。\n",
    "ライブステージは一つのアイドルグループが複数回出演する場合がありますが、\n",
    "複数回のステージはそれぞれ異なるステージとして出力してください。\n",
    "出演時間は、グループ名の近くに記載されている場合が多いので、それを採用してください。\n",
    "もし明確な出演時間が記載されていない場合には、\n",
    "グループ名を囲む四角形の辺の位置を、\n",
    "タイムテーブル上の時刻の目盛りから読み取ることによって時間を特定してください。\n",
    "\n",
    "##終演後特典会について\n",
    "「終演後物販」「終演後特典会」といった演目が存在している場合がありますが、\n",
    "これはライブステージではないので無視をしてください。\n",
    "\n",
    "#出力形式\n",
    "以下の様なJSON形式で出力してください。\n",
    "{\n",
    "    \"ステージ名\":\"HOTステージ\"\n",
    "    ,\"タイムテーブル\":\n",
    "    [\n",
    "        {\n",
    "            \"グループ名\":\"アイドルグループA\"\n",
    "            ,\"ライブステージ\":\n",
    "            {\n",
    "                \"from\":\"10:00\"\n",
    "                ,\"to\":\"10:20\"\n",
    "            },\n",
    "        },\n",
    "        {\n",
    "            \"グループ名\":\"架空のアイドル\"\n",
    "            ,\"ライブステージ\":\n",
    "            {\n",
    "                \"from\":\"10:25\"\n",
    "                ,\"to\":\"10:45\"\n",
    "            },\n",
    "        }\n",
    "    ]\n",
    "}\n",
    "\"\"\""
   ]
  },
  {
   "cell_type": "code",
   "execution_count": 12,
   "metadata": {},
   "outputs": [
    {
     "data": {
      "text/plain": [
       "{'ステージ名': 'CENTRAL STAGE',\n",
       " 'タイムテーブル': [{'グループ名': 'THE ENCORE',\n",
       "   'ライブステージ': {'from': '9:50', 'to': '10:10'}},\n",
       "  {'グループ名': 'アンター・ビーナスティー', 'ライブステージ': {'from': '10:15', 'to': '10:35'}},\n",
       "  {'グループ名': 'dela', 'ライブステージ': {'from': '10:40', 'to': '11:10'}},\n",
       "  {'グループ名': \"瑠璃色♪drop'tune♪\", 'ライブステージ': {'from': '11:15', 'to': '11:35'}},\n",
       "  {'グループ名': 'IMyME!MINE', 'ライブステージ': {'from': '11:40', 'to': '12:00'}},\n",
       "  {'グループ名': '仮面女子', 'ライブステージ': {'from': '12:05', 'to': '12:25'}},\n",
       "  {'グループ名': '虹の架け橋少女', 'ライブステージ': {'from': '12:30', 'to': '12:50'}},\n",
       "  {'グループ名': 'なぉナ王の房ィ後', 'ライブステージ': {'from': '12:55', 'to': '13:15'}},\n",
       "  {'グループ名': 'ワンダーウィード 天', 'ライブステージ': {'from': '13:20', 'to': '13:40'}},\n",
       "  {'グループ名': '平我ゼセーシヨン', 'ライブステージ': {'from': '13:45', 'to': '14:05'}},\n",
       "  {'グループ名': '#2i2', 'ライブステージ': {'from': '14:10', 'to': '14:30'}},\n",
       "  {'グループ名': \"MyDearDarlin'\", 'ライブステージ': {'from': '14:35', 'to': '14:55'}},\n",
       "  {'グループ名': 'SAISON', 'ライブステージ': {'from': '15:00', 'to': '15:20'}},\n",
       "  {'グループ名': 'アイドルブレジン', 'ライブステージ': {'from': '15:25', 'to': '15:45'}},\n",
       "  {'グループ名': '2o Love to Sweet Bullet',\n",
       "   'ライブステージ': {'from': '15:50', 'to': '16:10'}},\n",
       "  {'グループ名': 'みみうるれ', 'ライブステージ': {'from': '16:15', 'to': '16:35'}},\n",
       "  {'グループ名': 'High Alley', 'ライブステージ': {'from': '16:40', 'to': '17:00'}},\n",
       "  {'グループ名': 'なんキモ', 'ライブステージ': {'from': '17:05', 'to': '17:25'}},\n",
       "  {'グループ名': 'FES☆TIVE', 'ライブステージ': {'from': '17:30', 'to': '17:50'}},\n",
       "  {'グループ名': '愛に、瞳☆キュン。', 'ライブステージ': {'from': '17:55', 'to': '18:15'}},\n",
       "  {'グループ名': '#ババババンビ', 'ライブステージ': {'from': '18:20', 'to': '18:40'}},\n",
       "  {'グループ名': 'JamsCollection', 'ライブステージ': {'from': '18:45', 'to': '19:05'}}]}"
      ]
     },
     "execution_count": 12,
     "metadata": {},
     "output_type": "execute_result"
    }
   ],
   "source": [
    "prompt_user = \"ステージ名：CENTRAL STAGE\"\n",
    "doc_folder = os.getcwd()+\"/../../data/\"\n",
    "image_path = doc_folder + \"timetable_sample/20240503_JCIF-LIVE.jpeg\"\n",
    "response = gpt_ocr.getocr(image_path, prompt_user, prompt_system_timetable)\n",
    "json.loads(response.choices[0].message.content)"
   ]
  },
  {
   "cell_type": "code",
   "execution_count": 13,
   "metadata": {},
   "outputs": [
    {
     "data": {
      "text/plain": [
       "{'ステージ名': 'OCEAN STAGE',\n",
       " 'タイムテーブル': [{'グループ名': 'テンシメシ໒3', 'ライブステージ': {'from': '10:00', 'to': '10:20'}},\n",
       "  {'グループ名': '≒JOY', 'ライブステージ': {'from': '10:20', 'to': '10:40'}},\n",
       "  {'グループ名': 'アポストロフィ', 'ライブステージ': {'from': '10:40', 'to': '11:00'}},\n",
       "  {'グループ名': 'OS☆K', 'ライブステージ': {'from': '11:00', 'to': '11:20'}},\n",
       "  {'グループ名': 'Symdolick', 'ライブステージ': {'from': '11:20', 'to': '11:40'}},\n",
       "  {'グループ名': 'HAPPY⤴️⤴️', 'ライブステージ': {'from': '11:40', 'to': '12:00'}},\n",
       "  {'グループ名': 'あっとーふぇむ', 'ライブステージ': {'from': '12:00', 'to': '12:20'}},\n",
       "  {'グループ名': 'かかぴるファミリーにおまかせ', 'ライブステージ': {'from': '12:20', 'to': '12:40'}},\n",
       "  {'グループ名': 'HIGH SPIRITS', 'ライブステージ': {'from': '12:40', 'to': '13:00'}},\n",
       "  {'グループ名': '戦国アニマル極楽浄土', 'ライブステージ': {'from': '13:00', 'to': '13:20'}},\n",
       "  {'グループ名': 'Chuz-', 'ライブステージ': {'from': '13:20', 'to': '13:40'}},\n",
       "  {'グループ名': 'ミスティア！', 'ライブステージ': {'from': '13:40', 'to': '14:00'}},\n",
       "  {'グループ名': 'えぬえむとぅけ', 'ライブステージ': {'from': '14:00', 'to': '14:20'}},\n",
       "  {'グループ名': 'ひめもすオーケストラ', 'ライブステージ': {'from': '14:20', 'to': '14:40'}},\n",
       "  {'グループ名': 'スポポピュラ', 'ライブステージ': {'from': '14:40', 'to': '15:00'}},\n",
       "  {'グループ名': '逆転なにわぼっち！', 'ライブステージ': {'from': '15:00', 'to': '15:20'}},\n",
       "  {'グループ名': '≠ME', 'ライブステージ': {'from': '15:20', 'to': '15:40'}},\n",
       "  {'グループ名': 'テンシメシ໒3', 'ライブステージ': {'from': '15:40', 'to': '16:00'}},\n",
       "  {'グループ名': 'アポストロフィ', 'ライブステージ': {'from': '16:00', 'to': '16:20'}},\n",
       "  {'グループ名': '≒JOY', 'ライブステージ': {'from': '16:20', 'to': '16:40'}},\n",
       "  {'グループ名': 'OS☆K', 'ライブステージ': {'from': '16:40', 'to': '17:00'}},\n",
       "  {'グループ名': 'Symdolick', 'ライブステージ': {'from': '17:00', 'to': '17:20'}},\n",
       "  {'グループ名': 'Sistersあにま', 'ライブステージ': {'from': '17:20', 'to': '17:40'}}]}"
      ]
     },
     "execution_count": 13,
     "metadata": {},
     "output_type": "execute_result"
    }
   ],
   "source": [
    "prompt_user = \"ステージ名：OCEAN STAGE\"\n",
    "doc_folder = os.getcwd()+\"/../../data/\"\n",
    "image_path = doc_folder + \"timetable_sample/20240503_JCIF-LIVE.jpeg\"\n",
    "response = gpt_ocr.getocr(image_path, prompt_user, prompt_system_timetable)\n",
    "json.loads(response.choices[0].message.content)"
   ]
  },
  {
   "cell_type": "code",
   "execution_count": 15,
   "metadata": {},
   "outputs": [
    {
     "data": {
      "text/plain": [
       "<module 'backend_functions.timetabledata' from 'c:\\\\Users\\\\kkoaz\\\\Documents\\\\projects\\\\product\\\\timetable-detect\\\\timetable-detect\\\\src\\\\backend_functions\\\\timetabledata.py'>"
      ]
     },
     "execution_count": 15,
     "metadata": {},
     "output_type": "execute_result"
    }
   ],
   "source": [
    "import importlib\n",
    "importlib.reload(gpt_ocr)\n",
    "importlib.reload(timetabledata)"
   ]
  },
  {
   "cell_type": "code",
   "execution_count": 6,
   "metadata": {},
   "outputs": [
    {
     "name": "stdout",
     "output_type": "stream",
     "text": [
      "{'ステージ名': ['WWWX', 'Veats', 'VIDENT'], '命名規則': '特になし'}\n"
     ]
    }
   ],
   "source": [
    "doc_folder = os.getcwd()+\"/../../data/projects/\"\n",
    "image_path = doc_folder + \"202507_SWEETSUMMER/event_1/ライブ特典会/raw_cropped.png\"\n",
    "# response = gpt_ocr.getocr_fes_timetable_functioncalling(image_path)\n",
    "response = gpt_ocr.getocr_fes_stagelist_structured(image_path,3)\n",
    "print(response)"
   ]
  },
  {
   "cell_type": "code",
   "execution_count": 16,
   "metadata": {},
   "outputs": [
    {
     "name": "stdout",
     "output_type": "stream",
     "text": [
      "1\n",
      "{'タイムテーブル': [{'グループ名': '天上天使', 'ライブステージ': {'from': '09:20', 'to': '09:40'}, '特典会': [{'from': '09:50', 'to': '11:00', 'ブース': 'A'}]}, {'グループ名': 'コングラッチュエット！', 'ライブステージ': {'from': '09:40', 'to': '10:00'}, '特典会': [{'from': '10:10', 'to': '11:20', 'ブース': 'B'}]}, {'グループ名': 'Krays', 'ライブステージ': {'from': '10:00', 'to': '10:20'}, '特典会': [{'from': '10:30', 'to': '11:40', 'ブース': 'C'}]}, {'グループ名': 'メリーパレード', 'ライブステージ': {'from': '10:20', 'to': '10:40'}, '特典会': [{'from': '10:50', 'to': '12:00', 'ブース': 'D'}]}, {'グループ名': 'シェルム', 'ライブステージ': {'from': '10:40', 'to': '11:00'}, '特典会': [{'from': '11:10', 'to': '12:20', 'ブース': 'A'}]}, {'グループ名': '青群リグレット', 'ライブステージ': {'from': '11:00', 'to': '11:20'}, '特典会': [{'from': '11:30', 'to': '12:40', 'ブース': 'B'}]}, {'グループ名': 'みらウィ！', 'ライブステージ': {'from': '11:20', 'to': '11:40'}, '特典会': [{'from': '11:50', 'to': '13:00', 'ブース': 'C'}]}, {'グループ名': 'ROOKEY♡ROOKEYS', 'ライブステージ': {'from': '11:45', 'to': '12:05'}, '特典会': [{'from': '12:15', 'to': '13:25', 'ブース': 'A'}]}, {'グループ名': '天使突抜ニ読ミ', 'ライブステージ': {'from': '12:05', 'to': '12:25'}, '特典会': [{'from': '12:35', 'to': '13:45', 'ブース': 'B'}]}, {'グループ名': 'I’mew（あいみゅう）', 'ライブステージ': {'from': '12:25', 'to': '12:45'}, '特典会': [{'from': '12:55', 'to': '14:05', 'ブース': 'C'}]}, {'グループ名': 'LIT MOON', 'ライブステージ': {'from': '12:45', 'to': '13:05'}, '特典会': [{'from': '13:15', 'to': '14:25', 'ブース': 'D'}]}, {'グループ名': 'Jewel☆Garden', 'ライブステージ': {'from': '13:05', 'to': '13:25'}, '特典会': [{'from': '13:35', 'to': '14:45', 'ブース': 'A'}]}, {'グループ名': 'ニコニコ♡PRINCESS', 'ライブステージ': {'from': '13:25', 'to': '13:45'}, '特典会': [{'from': '13:55', 'to': '15:05', 'ブース': 'B'}]}, {'グループ名': 'すてねこキャッツ', 'ライブステージ': {'from': '13:45', 'to': '14:05'}, '特典会': [{'from': '14:15', 'to': '15:25', 'ブース': 'C'}]}, {'グループ名': 'ハープスター', 'ライブステージ': {'from': '14:10', 'to': '14:30'}, '特典会': [{'from': '14:40', 'to': '15:50', 'ブース': 'D'}]}, {'グループ名': 'サクヤコノハナ', 'ライブステージ': {'from': '14:30', 'to': '14:50'}, '特典会': [{'from': '15:00', 'to': '16:10', 'ブース': 'A'}]}, {'グループ名': '虹色の飛行少女', 'ライブステージ': {'from': '14:50', 'to': '15:10'}, '特典会': [{'from': '15:20', 'to': '16:30', 'ブース': 'B'}]}]}\n"
     ]
    }
   ],
   "source": [
    "doc_folder = os.getcwd()+\"/../../data/projects/\"\n",
    "image_path = doc_folder + \"TGG20250105/event_1/ライブ特典会/stage_1.png\"\n",
    "# response = gpt_ocr.getocr_fes_timetable_functioncalling(image_path)\n",
    "response = gpt_ocr.getocr_fes_withtokutenkai_timetable_functioncalling(image_path)\n",
    "print(response)"
   ]
  },
  {
   "cell_type": "code",
   "execution_count": 24,
   "metadata": {},
   "outputs": [
    {
     "name": "stdout",
     "output_type": "stream",
     "text": [
      "(['ストロベリーステージ', 'キウイステージ', 'ブルーベリーステージ', 'ピーチステージ', 'オレンジステージ', 'パイナップルステージ'], '特になし')\n"
     ]
    }
   ],
   "source": [
    "doc_folder = os.getcwd()+\"/../../data/projects/\"\n",
    "image_path = doc_folder + \"atjam2024/event_1/ライブ/raw_cropped.png\"\n",
    "response = gpt_ocr.getocr_fes_stagelist(image_path, 6)\n",
    "print(response)"
   ]
  },
  {
   "cell_type": "code",
   "execution_count": 25,
   "metadata": {},
   "outputs": [
    {
     "name": "stdout",
     "output_type": "stream",
     "text": [
      "(['1', '2', '3', '4', '5', '6', '7', '8', '9', '10', '11', '12', '13', '14', '15', '16', '17'], '数字')\n"
     ]
    }
   ],
   "source": [
    "doc_folder = os.getcwd()+\"/../../data/projects/\"\n",
    "image_path = doc_folder + \"atjam2024/event_1/特典会/raw_cropped.png\"\n",
    "response = gpt_ocr.getocr_fes_stagelist(image_path, 17)\n",
    "print(response)"
   ]
  },
  {
   "cell_type": "code",
   "execution_count": null,
   "metadata": {},
   "outputs": [],
   "source": []
  }
 ],
 "metadata": {
  "kernelspec": {
   "display_name": ".venv",
   "language": "python",
   "name": "python3"
  },
  "language_info": {
   "codemirror_mode": {
    "name": "ipython",
    "version": 3
   },
   "file_extension": ".py",
   "mimetype": "text/x-python",
   "name": "python",
   "nbconvert_exporter": "python",
   "pygments_lexer": "ipython3",
   "version": "3.10.9"
  }
 },
 "nbformat": 4,
 "nbformat_minor": 2
}
